{
  "nbformat": 4,
  "nbformat_minor": 0,
  "metadata": {
    "colab": {
      "provenance": [],
      "authorship_tag": "ABX9TyNRj1KFv5FmY/g/NNrYIAVn",
      "include_colab_link": true
    },
    "kernelspec": {
      "name": "python3",
      "display_name": "Python 3"
    },
    "language_info": {
      "name": "python"
    }
  },
  "cells": [
    {
      "cell_type": "markdown",
      "metadata": {
        "id": "view-in-github",
        "colab_type": "text"
      },
      "source": [
        "<a href=\"https://colab.research.google.com/github/Neetha669/Os/blob/main/(day_4)08_08_25.ipynb\" target=\"_parent\"><img src=\"https://colab.research.google.com/assets/colab-badge.svg\" alt=\"Open In Colab\"/></a>"
      ]
    },
    {
      "cell_type": "code",
      "execution_count": null,
      "metadata": {
        "colab": {
          "base_uri": "https://localhost:8080/"
        },
        "id": "TPcK61rt2a-6",
        "outputId": "4fc7b9cc-08c6-4ab7-828b-85590f86b2e0"
      },
      "outputs": [
        {
          "output_type": "stream",
          "name": "stdout",
          "text": [
            "11\n",
            "-1 -1 2 -1 -1 -1 -1 -1 -1 -1 -1\n",
            "8\n"
          ]
        }
      ],
      "source": [
        "#single integer the number of crimes which will go untreated\n",
        "n=int(input())\n",
        "police,unsloved=0,0\n",
        "event=list(map(int,input().split()))\n",
        "for e in event:\n",
        "  if e==-1:\n",
        "    if police>0:\n",
        "      police-=1\n",
        "    else:\n",
        "      unsloved+=1\n",
        "  else:\n",
        "    police+=e\n",
        "print(unsloved)"
      ]
    },
    {
      "cell_type": "code",
      "source": [
        "#counting the largest number\n",
        "l=[3,5,2,6,1]\n",
        "m,count=0,0\n",
        "for i in l:\n",
        "  if i>m:\n",
        "    m=i\n",
        "    count+=1\n",
        "print(count)"
      ],
      "metadata": {
        "colab": {
          "base_uri": "https://localhost:8080/"
        },
        "id": "3oV-fst-76TV",
        "outputId": "a4b9ed7d-521f-4f52-e3a4-7c7c78821587"
      },
      "execution_count": 10,
      "outputs": [
        {
          "output_type": "stream",
          "name": "stdout",
          "text": [
            "3\n"
          ]
        }
      ]
    },
    {
      "cell_type": "code",
      "source": [
        "#find the second largest number--> brute force method\n",
        "l=[3,5,2,6,1]\n",
        "m1=0\n",
        "for i in l:\n",
        "  if i>m1:\n",
        "    m1=i\n",
        "m2=0\n",
        "for i in l:\n",
        "  if i>m2 and i!=m1:\n",
        "    m2=i\n",
        "print(m2)\n"
      ],
      "metadata": {
        "colab": {
          "base_uri": "https://localhost:8080/"
        },
        "id": "kX9WlyJkAlw_",
        "outputId": "ac756c88-feb7-4b79-a2fe-af88da7c63d5"
      },
      "execution_count": 12,
      "outputs": [
        {
          "output_type": "stream",
          "name": "stdout",
          "text": [
            "5\n"
          ]
        }
      ]
    },
    {
      "cell_type": "code",
      "source": [
        "#or\n",
        "\n",
        "l=[6,5,2,3,1]\n",
        "m1,m2=0,0\n",
        "for i in l:\n",
        "  if i>m1:\n",
        "    m2=m1\n",
        "    m1=i\n",
        "  elif i>m2 and i!=m1:\n",
        "    m2=i\n",
        "print(m2)\n"
      ],
      "metadata": {
        "colab": {
          "base_uri": "https://localhost:8080/"
        },
        "id": "VLCI4Qq1DbuR",
        "outputId": "1667e6e2-c293-4bfa-bbdc-b0de079c0f04"
      },
      "execution_count": 13,
      "outputs": [
        {
          "output_type": "stream",
          "name": "stdout",
          "text": [
            "5\n"
          ]
        }
      ]
    },
    {
      "cell_type": "code",
      "source": [
        "n=int(input(\"Enter the num:\"))\n",
        "x=0\n",
        "for i in range(1,n+1):\n",
        "  x=x^i\n",
        "  print(x)\n"
      ],
      "metadata": {
        "colab": {
          "base_uri": "https://localhost:8080/"
        },
        "id": "yRHyYgYjI7Pj",
        "outputId": "82922ae8-03eb-41ce-81af-9c2d835bf552"
      },
      "execution_count": 28,
      "outputs": [
        {
          "output_type": "stream",
          "name": "stdout",
          "text": [
            "Enter the num:8\n",
            "1\n",
            "3\n",
            "0\n",
            "4\n",
            "1\n",
            "7\n",
            "0\n",
            "8\n"
          ]
        }
      ]
    },
    {
      "cell_type": "code",
      "source": [
        "n=int(input(\"Enter the num:\"))\n",
        "if n%4==1:\n",
        "  print(1)\n",
        "if n%4==2:\n",
        "  print(n+1)\n",
        "if n%4==3:\n",
        "  print(0)\n",
        "if n%4==0:\n",
        "  print(n)\n"
      ],
      "metadata": {
        "colab": {
          "base_uri": "https://localhost:8080/"
        },
        "id": "4dn25L4cSz2r",
        "outputId": "1bf8984e-2c96-4e1d-c7ed-227b202b8d79"
      },
      "execution_count": 31,
      "outputs": [
        {
          "output_type": "stream",
          "name": "stdout",
          "text": [
            "Enter the num:5\n",
            "1\n"
          ]
        }
      ]
    },
    {
      "cell_type": "code",
      "source": [
        "def fun(a,b):\n",
        "  # This function takes two arguments and returns their sum.\n",
        "  return a+b\n",
        "x=10\n",
        "y=20\n",
        "print (fun(x,y))"
      ],
      "metadata": {
        "colab": {
          "base_uri": "https://localhost:8080/"
        },
        "id": "_WdW5nvGT4Ak",
        "outputId": "d2d8775a-9496-4e45-e239-509f7357f3f3"
      },
      "execution_count": 32,
      "outputs": [
        {
          "output_type": "stream",
          "name": "stdout",
          "text": [
            "30\n"
          ]
        }
      ]
    },
    {
      "cell_type": "code",
      "source": [
        "def find_xor(n):\n",
        "  if n%4==1:\n",
        "    return 1\n",
        "  if n%4==2:\n",
        "    return n+1\n",
        "  if n%4==3:\n",
        "     return 0\n",
        "  if n%4==0:\n",
        "    return n\n",
        "\n",
        "l=int(input(\"Enter the lower limit:\"))\n",
        "r=int(input(\"Enter the upper limit:\"))\n",
        "a=find_xor(r)\n",
        "b=find_xor(l-1)\n",
        "print(b^a)"
      ],
      "metadata": {
        "colab": {
          "base_uri": "https://localhost:8080/"
        },
        "id": "RnbSFXONag5h",
        "outputId": "6a81bb58-53f1-4455-a448-0613cd947337"
      },
      "execution_count": 41,
      "outputs": [
        {
          "output_type": "stream",
          "name": "stdout",
          "text": [
            "Enter the lower limit:3\n",
            "Enter the upper limit:6\n",
            "4\n"
          ]
        }
      ]
    },
    {
      "cell_type": "code",
      "source": [
        "n=int(input(\"Enter the num:\"))\n",
        "count=0\n",
        "while n:\n",
        "  n=n&(n-1)\n",
        "  count+=1\n",
        "print(count)"
      ],
      "metadata": {
        "colab": {
          "base_uri": "https://localhost:8080/"
        },
        "id": "-pKYfwahd1fU",
        "outputId": "65b27cbc-04ce-4f85-d474-2b261d2b2fe1"
      },
      "execution_count": 43,
      "outputs": [
        {
          "output_type": "stream",
          "name": "stdout",
          "text": [
            "Enter the num:5\n",
            "2\n"
          ]
        }
      ]
    },
    {
      "cell_type": "code",
      "source": [
        "#count the number of prime numbers in the list\n",
        "\n",
        "l=[5,8,10,12,4,3,7]\n",
        "count=0\n",
        "for i in l:\n",
        "  if i>1:\n",
        "    for j in range(2,i):\n",
        "      if i%j==0:\n",
        "        break\n",
        "    else:\n",
        "      count+=1\n",
        "print(count)"
      ],
      "metadata": {
        "colab": {
          "base_uri": "https://localhost:8080/"
        },
        "id": "MGJc9P0quEaS",
        "outputId": "06a8038e-ab09-4a83-98ce-f120ba187645"
      },
      "execution_count": 47,
      "outputs": [
        {
          "output_type": "stream",
          "name": "stdout",
          "text": [
            "3\n"
          ]
        }
      ]
    }
  ]
}