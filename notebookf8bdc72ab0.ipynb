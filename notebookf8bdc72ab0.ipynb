{
  "metadata": {
    "kernelspec": {
      "language": "python",
      "display_name": "Python 3",
      "name": "python3"
    },
    "language_info": {
      "pygments_lexer": "ipython3",
      "nbconvert_exporter": "python",
      "version": "3.6.4",
      "file_extension": ".py",
      "codemirror_mode": {
        "name": "ipython",
        "version": 3
      },
      "name": "python",
      "mimetype": "text/x-python"
    },
    "kaggle": {
      "accelerator": "none",
      "dataSources": [],
      "isInternetEnabled": false,
      "language": "python",
      "sourceType": "notebook",
      "isGpuEnabled": false
    },
    "colab": {
      "name": "notebookf8bdc72ab0",
      "provenance": [],
      "include_colab_link": true
    }
  },
  "nbformat_minor": 0,
  "nbformat": 4,
  "cells": [
    {
      "cell_type": "markdown",
      "metadata": {
        "id": "view-in-github",
        "colab_type": "text"
      },
      "source": [
        "<a href=\"https://colab.research.google.com/github/Neetha669/Os/blob/main/notebookf8bdc72ab0.ipynb\" target=\"_parent\"><img src=\"https://colab.research.google.com/assets/colab-badge.svg\" alt=\"Open In Colab\"/></a>"
      ]
    },
    {
      "cell_type": "code",
      "source": [
        "nterms=int(input(\"how many terms?\\n\"))\n",
        "n1,n2=0,1\n",
        "count=0\n",
        "if nterms<=0:\n",
        "    print(\"please enter positive integer\")\n",
        "elif nterms==1:\n",
        "    print(\"fibbonacci sequence upto\",nterms,\":\")\n",
        "    print(n1)\n",
        "else:\n",
        "    print(\"fibbonacci sequence\")\n",
        "    while count<nterms:\n",
        "      print(n1)\n",
        "      nth=n1+n2\n",
        "      n1=n2\n",
        "      n2=nth\n",
        "      count+=1\n"
      ],
      "metadata": {
        "_uuid": "8f2839f25d086af736a60e9eeb907d3b93b6e0e5",
        "_cell_guid": "b1076dfc-b9ad-4769-8c92-a6c4dae69d19",
        "trusted": true,
        "id": "CCKLPgvq8dB6"
      },
      "outputs": [],
      "execution_count": null
    }
  ]
}